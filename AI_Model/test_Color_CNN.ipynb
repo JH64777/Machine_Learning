{
 "cells": [
  {
   "cell_type": "code",
   "execution_count": 60,
   "id": "a55dbe38",
   "metadata": {},
   "outputs": [],
   "source": [
    "import tensorflow as tf\n",
    "import pandas as pd\n",
    "import cv2\n",
    "import numpy as np\n",
    "import import_ipynb\n",
    "import LoadData"
   ]
  },
  {
   "cell_type": "code",
   "execution_count": 61,
   "id": "1908512e",
   "metadata": {},
   "outputs": [
    {
     "name": "stdout",
     "output_type": "stream",
     "text": [
      "Adelie.jpg\n",
      "Adelie10.jpg\n",
      "Adelie2.jpg\n",
      "Adelie3.jpg\n",
      "Adelie4.jpg\n",
      "Adelie5.jpg\n",
      "Adelie6.jpg\n",
      "Adelie7.jpg\n",
      "Adelie8.jpg\n",
      "Adelie9.jpg\n",
      "emp.jpg\n",
      "emp10.jpg\n",
      "emp2.jpg\n",
      "emp3.jpg\n",
      "emp4.jpg\n",
      "emp5.jpg\n",
      "emp6.jpg\n",
      "emp7.jpg\n",
      "emp8.jpg\n",
      "emp9.jpg\n",
      "line.jpg\n",
      "line10.jpg\n",
      "line2.jpg\n",
      "line3.jpg\n",
      "line4.jpg\n",
      "line5.jpg\n",
      "line6.jpg\n",
      "line7.jpg\n",
      "line8.jpg\n",
      "line9.jpg\n",
      "(30, 227, 227, 3)\n",
      "['A' 'A' 'A' 'A' 'A' 'A' 'A' 'A' 'A' 'A' 'E' 'E' 'E' 'E' 'E' 'E' 'E' 'E'\n",
      " 'E' 'E' 'L' 'L' 'L' 'L' 'L' 'L' 'L' 'L' 'L' 'L']\n",
      "    A  E  L\n",
      "0   1  0  0\n",
      "1   1  0  0\n",
      "2   1  0  0\n",
      "3   1  0  0\n",
      "4   1  0  0\n",
      "5   1  0  0\n",
      "6   1  0  0\n",
      "7   1  0  0\n",
      "8   1  0  0\n",
      "9   1  0  0\n",
      "10  0  1  0\n",
      "11  0  1  0\n",
      "12  0  1  0\n",
      "13  0  1  0\n",
      "14  0  1  0\n",
      "15  0  1  0\n",
      "16  0  1  0\n",
      "17  0  1  0\n",
      "18  0  1  0\n",
      "19  0  1  0\n",
      "20  0  0  1\n",
      "21  0  0  1\n",
      "22  0  0  1\n",
      "23  0  0  1\n",
      "24  0  0  1\n",
      "25  0  0  1\n",
      "26  0  0  1\n",
      "27  0  0  1\n",
      "28  0  0  1\n",
      "29  0  0  1\n"
     ]
    }
   ],
   "source": [
    "data = LoadData.Load_DataSet('C:/Users/asdew32/Desktop/penguins/Dataset/')\n",
    "\n",
    "dataset = data.Load_FileName()\n",
    "# 데이터셋 가져오기\n",
    "\n",
    "print(dataset.shape)\n",
    "\n",
    "Y = np.array([\"A\", \"A\", \"A\", \"A\", \"A\", \"A\", \"A\", \"A\", \"A\", \"A\", \"E\", \"E\", \"E\", \"E\", \"E\", \"E\", \"E\", \"E\", \"E\", \"E\", \"L\", \"L\", \"L\", \"L\", \"L\", \"L\", \"L\", \"L\", \"L\", \"L\"]) # 답지 데이터셋 만들기\n",
    "print(Y)\n",
    "Y = pd.get_dummies(Y) # 원 핫 인코딩\n",
    "print(Y)"
   ]
  },
  {
   "cell_type": "code",
   "execution_count": 62,
   "id": "ccba0e12",
   "metadata": {},
   "outputs": [],
   "source": [
    "''' X_study = tf.keras.layers.Input(shape=[500,500,3])\n",
    "H = tf.keras.layers.Conv2D(4, kernel_size=5, activation=\"relu\")(X_study)\n",
    "H = tf.keras.layers.MaxPooling2D()(H)\n",
    "H = tf.keras.layers.Conv2D(8, kernel_size=3, activation=\"relu\")(H)\n",
    "H = tf.keras.layers.MaxPooling2D()(H)\n",
    "H = tf.keras.layers.Flatten()(H)\n",
    "H = tf.keras.layers.Dense(40, activation=\"relu\")(H)\n",
    "Y_study = tf.keras.layers.Dense(3, activation=\"softmax\")(H)\n",
    "\n",
    "model = tf.keras.models.Model(X_study, Y_study)\n",
    "model.compile(loss='categorical_crossentropy', optimizer='adam', metrics=['accuracy']) '''\n",
    "\n",
    "# 5개의 컨볼루션 3Dense층\n",
    "studyX = tf.keras.layers.Input(shape=[227, 227, 3])\n",
    "\n",
    "H = tf.keras.layers.Conv2D(96, kernel_size=11, strides=(4, 4), activation=\"relu\")(studyX)\n",
    "H = tf.keras.layers.MaxPool2D(pool_size=(3,3), strides=(2, 2))(H)\n",
    "\n",
    "H = tf.keras.layers.Conv2D(256, kernel_size=5, padding=\"same\", activation=\"relu\")(H)\n",
    "H = tf.keras.layers.MaxPool2D(pool_size=(3,3), strides=(2, 2))(H)\n",
    "\n",
    "H = tf.keras.layers.Conv2D(384, kernel_size=3, padding=\"same\", activation=\"relu\")(H)\n",
    "\n",
    "H = tf.keras.layers.Conv2D(384, kernel_size=3, padding=\"same\", activation=\"relu\")(H)\n",
    "\n",
    "H = tf.keras.layers.Conv2D(256, kernel_size=3, padding=\"same\", activation=\"relu\")(H)\n",
    "H = tf.keras.layers.MaxPool2D(pool_size=(3,3), strides=(2, 2))(H)\n",
    "\n",
    "H = tf.keras.layers.Flatten()(H)\n",
    "H = tf.keras.layers.Dense(4096, activation=\"relu\")(H)\n",
    "H = tf.keras.layers.Dense(4096, activation=\"relu\")(H)\n",
    "studyY = tf.keras.layers.Dense(3, activation=\"softmax\")(H)\n",
    "\n",
    "model = tf.keras.models.Model(studyX, studyY)\n",
    "model.compile(loss='categorical_crossentropy', optimizer='adam', metrics=['accuracy'])"
   ]
  },
  {
   "cell_type": "code",
   "execution_count": 64,
   "id": "fff6bbb6",
   "metadata": {
    "scrolled": false
   },
   "outputs": [
    {
     "name": "stdout",
     "output_type": "stream",
     "text": [
      "Epoch 1/30\n",
      "1/1 [==============================] - 1s 1s/step - loss: 1.0897 - accuracy: 0.3333\n",
      "Epoch 2/30\n",
      "1/1 [==============================] - 1s 1s/step - loss: 1.0632 - accuracy: 0.3333\n",
      "Epoch 3/30\n",
      "1/1 [==============================] - 1s 1s/step - loss: 1.0516 - accuracy: 0.4667\n",
      "Epoch 4/30\n",
      "1/1 [==============================] - 1s 1s/step - loss: 1.0311 - accuracy: 0.4333\n",
      "Epoch 5/30\n",
      "1/1 [==============================] - 2s 2s/step - loss: 1.0112 - accuracy: 0.4000\n",
      "Epoch 6/30\n",
      "1/1 [==============================] - 2s 2s/step - loss: 0.9589 - accuracy: 0.5000\n",
      "Epoch 7/30\n",
      "1/1 [==============================] - 2s 2s/step - loss: 0.9003 - accuracy: 0.5333\n",
      "Epoch 8/30\n",
      "1/1 [==============================] - 1s 1s/step - loss: 0.8056 - accuracy: 0.7000\n",
      "Epoch 9/30\n",
      "1/1 [==============================] - 1s 1s/step - loss: 0.7032 - accuracy: 0.7333\n",
      "Epoch 10/30\n",
      "1/1 [==============================] - 1s 1s/step - loss: 0.6923 - accuracy: 0.7333\n",
      "Epoch 11/30\n",
      "1/1 [==============================] - 1s 1s/step - loss: 0.5864 - accuracy: 0.8000\n",
      "Epoch 12/30\n",
      "1/1 [==============================] - 1s 1s/step - loss: 0.4886 - accuracy: 0.8000\n",
      "Epoch 13/30\n",
      "1/1 [==============================] - 2s 2s/step - loss: 0.4003 - accuracy: 0.8000\n",
      "Epoch 14/30\n",
      "1/1 [==============================] - 1s 1s/step - loss: 0.3390 - accuracy: 0.8000\n",
      "Epoch 15/30\n",
      "1/1 [==============================] - 1s 1s/step - loss: 0.2500 - accuracy: 0.9000\n",
      "Epoch 16/30\n",
      "1/1 [==============================] - 1s 1s/step - loss: 0.1809 - accuracy: 0.9667\n",
      "Epoch 17/30\n",
      "1/1 [==============================] - 1s 1s/step - loss: 0.1331 - accuracy: 0.9667\n",
      "Epoch 18/30\n",
      "1/1 [==============================] - 1s 1s/step - loss: 0.3354 - accuracy: 0.9000\n",
      "Epoch 19/30\n",
      "1/1 [==============================] - 1s 1s/step - loss: 0.2674 - accuracy: 0.8667\n",
      "Epoch 20/30\n",
      "1/1 [==============================] - 1s 1s/step - loss: 0.1004 - accuracy: 0.9667\n",
      "Epoch 21/30\n",
      "1/1 [==============================] - 1s 1s/step - loss: 0.5099 - accuracy: 0.8000\n",
      "Epoch 22/30\n",
      "1/1 [==============================] - 1s 1s/step - loss: 0.2097 - accuracy: 0.9000\n",
      "Epoch 23/30\n",
      "1/1 [==============================] - 1s 1s/step - loss: 0.1720 - accuracy: 0.9333\n",
      "Epoch 24/30\n",
      "1/1 [==============================] - 1s 1s/step - loss: 0.3986 - accuracy: 0.9000\n",
      "Epoch 25/30\n",
      "1/1 [==============================] - 1s 1s/step - loss: 0.0401 - accuracy: 1.0000\n",
      "Epoch 26/30\n",
      "1/1 [==============================] - 1s 1s/step - loss: 0.1826 - accuracy: 0.9333\n",
      "Epoch 27/30\n",
      "1/1 [==============================] - 1s 1s/step - loss: 0.5219 - accuracy: 0.7667\n",
      "Epoch 28/30\n",
      "1/1 [==============================] - 1s 1s/step - loss: 0.1368 - accuracy: 0.9333\n",
      "Epoch 29/30\n",
      "1/1 [==============================] - 1s 1s/step - loss: 0.0554 - accuracy: 1.0000\n",
      "Epoch 30/30\n",
      "1/1 [==============================] - 1s 1s/step - loss: 0.3064 - accuracy: 0.9000\n"
     ]
    },
    {
     "data": {
      "text/plain": [
       "<keras.callbacks.History at 0x1dedbb81760>"
      ]
     },
     "execution_count": 64,
     "metadata": {},
     "output_type": "execute_result"
    }
   ],
   "source": [
    "model.fit(dataset, Y, epochs = 30)"
   ]
  },
  {
   "cell_type": "code",
   "execution_count": 66,
   "id": "4bacb30e",
   "metadata": {},
   "outputs": [
    {
     "name": "stdout",
     "output_type": "stream",
     "text": [
      "1/1 [==============================] - 0s 57ms/step\n"
     ]
    },
    {
     "data": {
      "text/html": [
       "<div>\n",
       "<style scoped>\n",
       "    .dataframe tbody tr th:only-of-type {\n",
       "        vertical-align: middle;\n",
       "    }\n",
       "\n",
       "    .dataframe tbody tr th {\n",
       "        vertical-align: top;\n",
       "    }\n",
       "\n",
       "    .dataframe thead th {\n",
       "        text-align: right;\n",
       "    }\n",
       "</style>\n",
       "<table border=\"1\" class=\"dataframe\">\n",
       "  <thead>\n",
       "    <tr style=\"text-align: right;\">\n",
       "      <th></th>\n",
       "      <th>0</th>\n",
       "      <th>1</th>\n",
       "      <th>2</th>\n",
       "    </tr>\n",
       "  </thead>\n",
       "  <tbody>\n",
       "    <tr>\n",
       "      <th>0</th>\n",
       "      <td>0.77</td>\n",
       "      <td>0.1</td>\n",
       "      <td>0.13</td>\n",
       "    </tr>\n",
       "  </tbody>\n",
       "</table>\n",
       "</div>"
      ],
      "text/plain": [
       "      0    1     2\n",
       "0  0.77  0.1  0.13"
      ]
     },
     "execution_count": 66,
     "metadata": {},
     "output_type": "execute_result"
    }
   ],
   "source": [
    "testing = cv2.imread('C:/Users/asdew32/Desktop/penguins/testing/Practice.jpg')\n",
    "insert = np.array([testing])\n",
    "\n",
    "pred = model.predict(insert[:])\n",
    "pd.DataFrame(pred).round(2)"
   ]
  },
  {
   "cell_type": "code",
   "execution_count": 67,
   "id": "d5fafd97",
   "metadata": {},
   "outputs": [
    {
     "name": "stdout",
     "output_type": "stream",
     "text": [
      "Model: \"model_17\"\n",
      "_________________________________________________________________\n",
      " Layer (type)                Output Shape              Param #   \n",
      "=================================================================\n",
      " input_22 (InputLayer)       [(None, 227, 227, 3)]     0         \n",
      "                                                                 \n",
      " conv2d_45 (Conv2D)          (None, 55, 55, 96)        34944     \n",
      "                                                                 \n",
      " max_pooling2d_39 (MaxPoolin  (None, 27, 27, 96)       0         \n",
      " g2D)                                                            \n",
      "                                                                 \n",
      " conv2d_46 (Conv2D)          (None, 27, 27, 256)       614656    \n",
      "                                                                 \n",
      " max_pooling2d_40 (MaxPoolin  (None, 13, 13, 256)      0         \n",
      " g2D)                                                            \n",
      "                                                                 \n",
      " conv2d_47 (Conv2D)          (None, 13, 13, 384)       885120    \n",
      "                                                                 \n",
      " conv2d_48 (Conv2D)          (None, 13, 13, 384)       1327488   \n",
      "                                                                 \n",
      " conv2d_49 (Conv2D)          (None, 13, 13, 256)       884992    \n",
      "                                                                 \n",
      " max_pooling2d_41 (MaxPoolin  (None, 6, 6, 256)        0         \n",
      " g2D)                                                            \n",
      "                                                                 \n",
      " flatten_18 (Flatten)        (None, 9216)              0         \n",
      "                                                                 \n",
      " dense_35 (Dense)            (None, 4096)              37752832  \n",
      "                                                                 \n",
      " dense_36 (Dense)            (None, 4096)              16781312  \n",
      "                                                                 \n",
      " dense_37 (Dense)            (None, 3)                 12291     \n",
      "                                                                 \n",
      "=================================================================\n",
      "Total params: 58,293,635\n",
      "Trainable params: 58,293,635\n",
      "Non-trainable params: 0\n",
      "_________________________________________________________________\n"
     ]
    }
   ],
   "source": [
    "model.summary()"
   ]
  },
  {
   "cell_type": "code",
   "execution_count": null,
   "id": "a7949a9b",
   "metadata": {},
   "outputs": [],
   "source": []
  }
 ],
 "metadata": {
  "kernelspec": {
   "display_name": "Python 3 (ipykernel)",
   "language": "python",
   "name": "python3"
  },
  "language_info": {
   "codemirror_mode": {
    "name": "ipython",
    "version": 3
   },
   "file_extension": ".py",
   "mimetype": "text/x-python",
   "name": "python",
   "nbconvert_exporter": "python",
   "pygments_lexer": "ipython3",
   "version": "3.9.16"
  }
 },
 "nbformat": 4,
 "nbformat_minor": 5
}
