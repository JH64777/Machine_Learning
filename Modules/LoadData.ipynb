{
 "cells": [
  {
   "cell_type": "code",
   "execution_count": 10,
   "id": "67b73b5c",
   "metadata": {},
   "outputs": [
    {
     "name": "stdout",
     "output_type": "stream",
     "text": [
      "(10, 500, 500, 3)\n"
     ]
    }
   ],
   "source": [
    "import os\n",
    "import cv2\n",
    "import numpy as np\n",
    "\n",
    "class Load_DataSet: # 데이터 셋 가져오는 클래스\n",
    "    def __init__(self, path):\n",
    "        self.path = path\n",
    "        \n",
    "    def Load_FileName(self): # 해당 폴더에 있는 모든 파일 이름들 불러오는 코드\n",
    "        file_list = os.listdir(self.path)\n",
    "        Data_set = []\n",
    "        for i in file_list:\n",
    "            Data_set.append(cv2.imread(self.path + i)) # Data_set 리스트 안에 사진 정보를 차례대로 넣는다\n",
    "        return np.array(Data_set) # 리스트를 배열화 시킨다."
   ]
  },
  {
   "cell_type": "code",
   "execution_count": null,
   "id": "1b577aeb",
   "metadata": {},
   "outputs": [],
   "source": []
  }
 ],
 "metadata": {
  "kernelspec": {
   "display_name": "Python 3 (ipykernel)",
   "language": "python",
   "name": "python3"
  },
  "language_info": {
   "codemirror_mode": {
    "name": "ipython",
    "version": 3
   },
   "file_extension": ".py",
   "mimetype": "text/x-python",
   "name": "python",
   "nbconvert_exporter": "python",
   "pygments_lexer": "ipython3",
   "version": "3.9.16"
  }
 },
 "nbformat": 4,
 "nbformat_minor": 5
}
