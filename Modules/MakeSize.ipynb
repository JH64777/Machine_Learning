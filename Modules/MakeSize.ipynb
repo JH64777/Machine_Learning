{
 "cells": [
  {
   "cell_type": "code",
   "execution_count": 1,
   "id": "96ea3564",
   "metadata": {},
   "outputs": [],
   "source": [
    "# 사진 크기 조절 후 저장\n",
    "import os\n",
    "import cv2\n",
    "\n",
    "def ChangeSize(path):\n",
    "    file_name = os.listdir(path)\n",
    "    for i in file_name:\n",
    "        img = cv2.imread(path + '/' + i)\n",
    "        result = cv2.resize(img, dsize = (227, 227))\n",
    "        cv2.imwrite(path + '/' + i, result)\n"
   ]
  },
  {
   "cell_type": "code",
   "execution_count": 3,
   "id": "fcc754ca",
   "metadata": {},
   "outputs": [],
   "source": [
    "ChangeSize('C:/Users/asdew32/Desktop/penguins/Dataset')"
   ]
  },
  {
   "cell_type": "code",
   "execution_count": null,
   "id": "4bcfd3e7",
   "metadata": {},
   "outputs": [],
   "source": []
  }
 ],
 "metadata": {
  "kernelspec": {
   "display_name": "Python 3 (ipykernel)",
   "language": "python",
   "name": "python3"
  },
  "language_info": {
   "codemirror_mode": {
    "name": "ipython",
    "version": 3
   },
   "file_extension": ".py",
   "mimetype": "text/x-python",
   "name": "python",
   "nbconvert_exporter": "python",
   "pygments_lexer": "ipython3",
   "version": "3.9.16"
  }
 },
 "nbformat": 4,
 "nbformat_minor": 5
}
