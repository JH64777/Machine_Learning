{
 "cells": [
  {
   "cell_type": "code",
   "execution_count": 2,
   "id": "bb34196d",
   "metadata": {},
   "outputs": [],
   "source": [
    "import os\n",
    "import numpy as np"
   ]
  },
  {
   "cell_type": "code",
   "execution_count": 10,
   "id": "3180eab1",
   "metadata": {},
   "outputs": [],
   "source": [
    "def Make_Y(path, Y_list):\n",
    "    folder_name = os.listdir(path)\n",
    "    Y = []\n",
    "    p = 0\n",
    "    for i in folder_name:\n",
    "        file_name = os.listdir(path+'/'+ i)\n",
    "        for j in file_name:\n",
    "            Y.append(Y_list[p])\n",
    "        p += 1\n",
    "    return np.array(Y)\n",
    "\n",
    "Y_result = Make_Y('C:/Users/asdew32/Desktop/penguins', [\"A\", \"B\"])"
   ]
  },
  {
   "cell_type": "code",
   "execution_count": null,
   "id": "d84a7f6c",
   "metadata": {},
   "outputs": [],
   "source": []
  },
  {
   "cell_type": "code",
   "execution_count": null,
   "id": "07aca7b4",
   "metadata": {},
   "outputs": [],
   "source": []
  }
 ],
 "metadata": {
  "kernelspec": {
   "display_name": "Python 3 (ipykernel)",
   "language": "python",
   "name": "python3"
  },
  "language_info": {
   "codemirror_mode": {
    "name": "ipython",
    "version": 3
   },
   "file_extension": ".py",
   "mimetype": "text/x-python",
   "name": "python",
   "nbconvert_exporter": "python",
   "pygments_lexer": "ipython3",
   "version": "3.9.16"
  }
 },
 "nbformat": 4,
 "nbformat_minor": 5
}
